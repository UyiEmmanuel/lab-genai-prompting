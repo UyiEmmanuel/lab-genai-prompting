{
 "cells": [
  {
   "cell_type": "markdown",
   "metadata": {
    "vscode": {
     "languageId": "plaintext"
    }
   },
   "source": [
    "# Exercise: Exploring Prompting Techniques for Customer Support Automation"
   ]
  },
  {
   "cell_type": "markdown",
   "metadata": {},
   "source": [
    "Objective:\n",
    "Learn and apply different prompting techniques to improve the performance of a language model in generating customer support responses.\n",
    "\n",
    "Business Case:\n",
    "Imagine you are working for a company that provides a variety of services, including technical support, billing inquiries, and general customer service. Your task is to use a language model to automate responses to customer emails.\n",
    "\n",
    "Dataset:\n",
    "Download the FAQ of a company to do this exercise. Below you have a couple of examples, but feel free to find your own:\n",
    "\n",
    "\n",
    "## Task\n",
    "\n",
    "**Objective:**\n",
    "\n",
    "Learn and apply different prompting techniques to improve the performance of a language model in generating customer support responses.\n",
    "\n",
    "**Business Case:**\n",
    "\n",
    "Imagine you are working for a company that provides a variety of services, including technical support, billing inquiries, and general customer service. Your task is to use a language model to automate responses to customer emails.\n",
    "\n",
    "**Dataset:**\n",
    "\n",
    "Download the FAQ of a company to do this exercise. Below you have a couple of examples, but feel free to find your own:\n",
    " - https://info.undp.org/erecruit/documents/FAQ.pdf\n",
    " - https://www.cambridgeenglish.org/Images/696254-faqs-digital-cambridge-english-qualifications.pdf\n",
    " - https://www.wscc.nt.ca/sites/default/files/documents/0009-518-Item-04-INDESIGN-FAQ-Template%203%20-%20MINUS%20FIRST%20QUESTION.pdf\n",
    "\n",
    "\n",
    "**Task**\n",
    "\n",
    "Download and Read the PDF:\n",
    "\n",
    "  - Choose one of the provided FAQ PDFs or find your own relevant FAQ document.\n",
    "  - Read through the FAQ document carefully to understand the types of questions and answers it contains.\n",
    "  - Create Questions Based on the PDF ( you can use ChatGPT for this)\n",
    "    - Generate a list of potential customer questions that could be answered using the information from the FAQ PDF.\n",
    "    - Ensure your questions cover a variety of topics and difficulty levels found within the document.\n",
    "    - Generate Responses Using Different Prompting Techniques:\n",
    "\n",
    "Use a language model (such as ChatGPT) to generate responses to your questions.\n",
    "Experiment with different prompting techniques to see how they affect the quality of the responses."
   ]
  },
  {
   "cell_type": "markdown",
   "metadata": {},
   "source": [
    "## Types of prompting\n",
    "\n",
    "For each of the types prompting, perform the following:\n",
    " - Research what the type of prompting is\n",
    " - Create a small explaination of the prompting\n",
    " - Test your type of prompting vs the control prompt (direct question)"
   ]
  },
  {
   "cell_type": "markdown",
   "metadata": {
    "vscode": {
     "languageId": "plaintext"
    }
   },
   "source": [
    "### Zero-Shot Prompting\n",
    "\n",
    "Use the knowledge base to create prompts without examples.\n",
    "Test the model's ability to generate accurate responses based solely on the provided instructions.\n",
    "Assess the performance compared to few-shot prompting."
   ]
  },
  {
   "cell_type": "code",
   "execution_count": null,
   "metadata": {},
   "outputs": [],
   "source": [
    "Zero-Shot Prompting\n",
    "Zero-shot prompting involves providing the language model with instructions or a task description without any examples. The model is expected to generate responses based solely on its understanding of the instructions and its pre-trained knowledge.\n",
    "Explanation:\n",
    "In zero-shot prompting, the model is given a prompt that describes the task or question, but no examples of correct responses are provided. The model must rely on its understanding of the prompt and its pre-trained knowledge to generate an appropriate response.\n",
    "Example Prompt:\n",
    "\"Provide a response to the following customer question based on the information in the attached FAQ document: How will the OHS Regulations affect my business?\"\n",
    "Model Response:\n",
    "The OHS Regulations will impact your business on various levels. With fewer approvals required from the Chief Safety Officer, the Regulations strongly support an Internal Responsibility System (IRS).\n",
    "Evaluation:\n",
    "The model's response is accurate and directly addresses the question by summarizing the relevant information from the FAQ document. However, the response lacks additional details or context that could make it more comprehensive."
   ]
  },
  {
   "cell_type": "markdown",
   "metadata": {
    "vscode": {
     "languageId": "plaintext"
    }
   },
   "source": [
    "### Few-Shot Prompting\n",
    "\n",
    "Select a few representative emails from each category.\n",
    "Create prompts by including these examples and ask the model to generate responses for new emails.\n",
    "Evaluate the quality and relevance of the responses."
   ]
  },
  {
   "cell_type": "code",
   "execution_count": null,
   "metadata": {},
   "outputs": [],
   "source": [
    "Few-Shot Prompting\n",
    "Few-shot prompting involves providing the language model with a small number of examples (typically 1-5) along with the instructions or task description. The model is expected to learn from these examples and generate responses for new, unseen inputs.\n",
    "Explanation:\n",
    "In few-shot prompting, the model is given a prompt that includes a few examples of the desired input-output pairs, along with the task description or instructions. The model can use these examples to better understand the task and generate appropriate responses for new inputs.\n",
    "Example Prompt:\n",
    "\"Based on the information in the attached FAQ document, provide a response to the following customer question:\n",
    "Question: How different are the OHS Regulations from the General Safety Regulations?\n",
    "Answer: There are many changes throughout the Regulations. The document is easier to use with an indexed search feature to help you find the information you need. Refer to the Table of Contents in the Draft document and review relevant sections to know what, if any, changes you must make.\n",
    "Question: Is there a grace period? How much time do I have to become compliant with the OHS Regulations?\n",
    "Answer: There is no grace period once the Regulations become law. Anticipate and prepare now, so when they become law, you will be compliant.\n",
    "Question: If we follow the Codes of Practice, are we compliant?\n",
    "Answer: Not necessarily. The Codes of Practice are based on the Regulations, but not all regulations have Codes. The WSCC will update Codes to reflect the Regulations, but it is important that you are familiar with, and ready to comply with, the Regulations. \"\n",
    "Model Response:\n",
    "Based on the provided examples and the FAQ document, here is a response to the new question:\n",
    "\"Question: What is the easiest way to find out how to be compliant?\n",
    "Answer: The Table of Contents is the best place to start. It clearly outlines information for you to easily find what you need. The Table of Contents is available for download at OHSregs.ca. When in doubt, call the WSCC at 1-800-661-0792 in the Northwest Territories or 1-877-404-4407 in Nunavut and ask to speak to a Safety Officer. \"\n",
    "Evaluation:\n",
    "The model's response accurately summarizes the relevant information from the FAQ document to answer the new question. The few-shot examples provided helpful context for the model to understand the task and generate an appropriate response."
   ]
  },
  {
   "cell_type": "markdown",
   "metadata": {},
   "source": [
    "### Chain of Thought Prompting\n",
    "\n",
    "Develop prompts that guide the model to think through the problem step-by-step before providing the final answer.\n",
    "Analyze if this approach improves the quality of technical support responses.\n"
   ]
  },
  {
   "cell_type": "code",
   "execution_count": null,
   "metadata": {},
   "outputs": [],
   "source": [
    "Chain of Thought Prompting\n",
    "Chain of thought prompting involves guiding the language model to think through the problem step-by-step before providing the final answer. This approach can help improve the quality of technical support responses by encouraging the model to break down the problem and reason through it logically.\n",
    "Explanation:\n",
    "In chain of thought prompting, the model is prompted to explicitly describe its thought process or reasoning steps before providing the final answer. This can help the model better understand the problem and generate more coherent and well-reasoned responses.\n",
    "Example Prompt:\n",
    "\"Based on the information in the attached FAQ document, provide a step-by-step explanation of how you would answer the following customer question:\n",
    "Question: As a worker, do my responsibilities change under the OHS Regulations?\n",
    "Thought process:\n",
    "The question is asking about changes to worker responsibilities under the new OHS Regulations.\n",
    "I should look for information in the FAQ document that specifically addresses worker responsibilities.\n",
    "In the section titled \"As a worker, do my responsibilities change under the OHS Regulations?\", it states:\n",
    "\"Not really. Every worker has a responsibility to work safely. These responsibilities are currently part of the Safety Acts. They will now be part of the Regulations as well.\"\n",
    "It also mentions: \"All workers must use safeguards, safety equipment, and personal protective equipment required by the Regulations. They must also follow safe work practices and procedures developed under these Regulations.\"\n",
    "Based on this information, the main responsibilities for workers remain the same, but they will now be explicitly outlined in the OHS Regulations instead of just the Safety Acts.\n",
    "Answer: Not really. Every worker has a responsibility to work safely. These responsibilities are currently part of the Safety Acts. They will now be part of the Regulations as well. All workers must use safeguards, safety equipment, and personal protective equipment required by the Regulations. They must also follow safe work practices and procedures developed under these Regulations. \"\n",
    "Evaluation:\n",
    "The chain of thought prompting approach encourages the model to break down the problem and reason through it step-by-step. This can help the model generate more coherent and well-reasoned responses, especially for technical or complex questions. The thought process provided by the model demonstrates its understanding of the question and the relevant information from the FAQ document."
   ]
  },
  {
   "cell_type": "markdown",
   "metadata": {},
   "source": [
    "### Instruction-Based Prompting\n",
    "\n",
    "Write clear and explicit instructions in the prompts for each type of customer inquiry.\n",
    "Measure the effectiveness of detailed instructions in guiding the model."
   ]
  },
  {
   "cell_type": "code",
   "execution_count": null,
   "metadata": {},
   "outputs": [],
   "source": [
    "Instruction-Based Prompting\n",
    "Instruction-based prompting involves writing clear and explicit instructions in the prompts for each type of customer inquiry. This approach aims to guide the model effectively by providing detailed instructions on how to respond to different types of questions or scenarios.\n",
    "Explanation:\n",
    "In instruction-based prompting, the prompt includes specific instructions or guidelines for the model to follow when generating a response. These instructions can help the model better understand the task and the desired format or style of the response.\n",
    "Example Prompt:\n",
    "\"Based on the information in the attached FAQ document, provide a response to the following customer question. Follow these instructions:\n",
    "Identify the relevant section(s) in the FAQ document that address the question.\n",
    "Summarize the key information from those sections in a concise and clear manner.\n",
    "If necessary, provide additional context or clarification to ensure the response is complete and easy to understand.\n",
    "Use a professional and helpful tone appropriate for customer service.\n",
    "Question: How much will it cost me to comply with the OHS Regulations?\n",
    "Response:\"\n",
    "Model Response:\n",
    "To respond to the question \"How much will it cost me to comply with the OHS Regulations?\", I will follow the provided instructions:\n",
    "The relevant section in the FAQ document is titled \"How much will it cost me to comply with the OHS Regulations?\".\n",
    "The key information from this section is:\n",
    "\"It depends. Complying with the OHS Regulations is a progressive step in your safety program. Costs you may incur to become compliant include training and education, and potential equipment updates, such as fall protection. You will have to make time for safety committees, supervisor training, proper worker training, and developing printed safety procedures for your workers.\"\n",
    "To provide additional context, the response clarifies that the costs will vary depending on the specific requirements for each business, but may include expenses related to training, equipment updates, and implementing safety procedures.\n",
    "Using a professional and helpful tone: \"The cost of complying with the OHS Regulations will depend on your specific business needs. You may incur expenses related to training and education for supervisors and workers, as well as potential equipment updates like fall protection. Additionally, you will need to allocate time and resources for safety committees, developing safety procedures, and ensuring proper worker training. The regulations aim to progressively improve your safety program, so the associated costs will vary based on your current practices and the changes required to become compliant.\"\n",
    "Evaluation:\n",
    "The instruction-based prompting approach helps the model generate a clear and well-structured response by following the provided guidelines. The response identifies the relevant information from the FAQ document, summarizes it concisely, provides additional context, and maintains a professional and helpful tone appropriate for customer service."
   ]
  },
  {
   "cell_type": "markdown",
   "metadata": {},
   "source": [
    "### Role-Playing Prompting\n",
    "\n",
    "Ask the model to respond as a customer service representative or technical support expert.\n",
    "Evaluate how well the model adopts the role and provides relevant information."
   ]
  },
  {
   "cell_type": "code",
   "execution_count": null,
   "metadata": {},
   "outputs": [],
   "source": [
    "Role-Playing Prompting\n",
    "Role-playing prompting involves asking the language model to respond as if it were a specific persona, such as a customer service representative or technical support expert. This approach can help the model better understand the context and generate more relevant and appropriate responses.\n",
    "Explanation:\n",
    "In role-playing prompting, the model is instructed to adopt a particular role or persona when generating responses. This can help the model better understand the context and expectations of the task, and tailor its responses accordingly.\n",
    "Example Prompt:\n",
    "\"Imagine you are a customer service representative for a company that provides various services, including technical support, billing inquiries, and general customer service. Your role is to respond to customer emails in a friendly, professional, and helpful manner, using the information provided in the attached FAQ document.\n",
    "Customer Email: Hello, I'm a bit confused about the new OHS Regulations and how they will affect my business. Can you please explain how these regulations are different from the previous General Safety Regulations and what changes I need to be aware of?\n",
    "Response:\"\n",
    "Model Response:\n",
    "Dear Valued Customer,\n",
    "Thank you for your inquiry regarding the new Occupational Health and Safety (OHS) Regulations and how they may impact your business. As a customer service representative, I'm happy to provide you with more information based on our company's FAQ document.\n",
    "The OHS Regulations introduce several changes compared to the previous General Safety Regulations. One notable difference is that the new regulations are easier to navigate, with an indexed search feature to help you quickly find the information you need. Additionally, the document includes a comprehensive Table of Contents that outlines the various sections and changes.\n",
    "Some key areas addressed in the new regulations include:\n",
    "Hazard Assessment\n",
    "Supervisor Education\n",
    "Robotics\n",
    "Radiation\n",
    "Explosives\n",
    "Forestry and Mill Operations\n",
    "Additional protection for electrical workers, healthcare workers, and firefighters\n",
    "Other changes cover topics such as OHS Committees, First Aid Requirements, Personal Protective Equipment, Noise Control, Hearing Conservation, Machine Safety, Scaffolds, Hoists and Cranes, Rigging, Entrance, Exits, and Ladders, Excavation, Confined Spaces Entry, Compressed Air, Diving, Chemical and Biological Exposure, Fire and Explosion Hazards, and Demolition Work.\n",
    "To ensure compliance, I recommend thoroughly reviewing the Table of Contents and relevant sections that apply to your business operations. This will help you identify any changes or updates you need to make to your safety program, training procedures, equipment, or workplace practices.\n",
    "Please feel free to reach out if you have any further questions or need additional assistance. We're here to support you in understanding and adhering to the new OHS Regulations.\n",
    "Best regards,\n",
    "[Your Customer Service Representative]\n",
    "Evaluation:\n",
    "The role-playing prompting approach encourages the model to adopt the persona of a customer service representative, which helps it generate a response that is friendly, professional, and tailored to the customer's inquiry. The response provides relevant information from the FAQ document, highlights key changes in the regulations, and offers guidance on how to ensure compliance. The tone and language used are appropriate for a customer service interaction."
   ]
  },
  {
   "cell_type": "markdown",
   "metadata": {},
   "source": [
    "### Contextual Prompting\n",
    "\n",
    "Provide relevant context from previous email threads or the knowledge base before posing the main question.\n",
    "Test if providing context improves the accuracy and relevance of the responses."
   ]
  },
  {
   "cell_type": "code",
   "execution_count": null,
   "metadata": {},
   "outputs": [],
   "source": [
    "Contextual Prompting\n",
    "Contextual prompting involves providing relevant context from previous email threads or the knowledge base before posing the main question. This approach can help the model better understand the background and generate more accurate and relevant responses.\n",
    "Explanation:\n",
    "In contextual prompting, the model is given additional context or background information related to the customer's inquiry. This context can come from previous email exchanges, relevant sections of the knowledge base, or other sources of information. By providing this context, the model can better understand the specific situation and generate more relevant and tailored responses.\n",
    "Example Prompt:\n",
    "\"Previous Email Thread:\n",
    "Customer: Hi, I'm a business owner, and I recently heard about the new Occupational Health and Safety (OHS) Regulations that will be implemented soon. I'm concerned about how these changes will affect my operations and what I need to do to comply.\n",
    "Customer Service Representative: Thank you for your inquiry. The new OHS Regulations will introduce several changes compared to the previous General Safety Regulations. To help you better understand the impact on your business, please provide some additional details about the nature of your operations, the number of employees, and any specific areas of concern you may have.\n",
    "Customer: Sure, I own a manufacturing facility with around 50 employees. We work with heavy machinery and equipment, so worker safety is a top priority. I'm particularly interested in understanding the changes related to machine safety, personal protective equipment, and any new training requirements for supervisors and workers.\n",
    "Based on the previous email thread and the information in the attached FAQ document, please provide a response addressing the customer's specific concerns and outlining the relevant changes they should be aware of.\n",
    "Response:\"\n",
    "Model Response:\n",
    "Dear Valued Customer,\n",
    "Thank you for providing additional context about your manufacturing facility and areas of concern. Based on the information in our FAQ document, I can address the changes related to machine safety, personal protective equipment, and training requirements under the new OHS Regulations.\n",
    "Regarding machine safety, the regulations have updated requirements to ensure proper safeguards and safety measures are in place for machinery and equipment. This may involve conducting risk assessments, implementing safety devices or guards, and providing adequate training for workers operating these machines.\n",
    "For personal protective equipment (PPE), the regulations outline specific requirements for different types of PPE, such as eye and face protection, respiratory protection, and protective clothing. Employers must ensure that workers are provided with and trained on the proper use of PPE based on the hazards present in their work environment.\n",
    "In terms of training, the new regulations place a stronger emphasis on supervisor education and worker training. Supervisors will be required to receive comprehensive training on their responsibilities, hazard identification, and safety management. Additionally, all workers must be properly trained on safe work practices, procedures, and the use of any required safety equipment or PPE.\n",
    "To ensure compliance, I recommend thoroughly reviewing the relevant sections of the OHS Regulations, particularly those related to machine safety, PPE, and training requirements. Our company's FAQ document can serve as a starting point, but you may also want to consult with safety professionals or regulatory authorities for more specific guidance tailored to your manufacturing operations.\n",
    "Please let me know if you have any further questions or need additional assistance. We're here to support you in understanding and implementing the necessary changes to maintain a safe and compliant workplace.\n",
    "Best regards,\n",
    "[Your Customer Service Representative]\n",
    "Evaluation:\n",
    "The contextual prompting approach provides the model with relevant background information from the previous email thread, allowing it to better understand the customer's specific concerns and tailor the response accordingly. The model's response addresses the key areas of machine safety, personal protective equipment, and training requirements, while also referring to the relevant sections of the FAQ document and offering additional guidance on ensuring compliance."
   ]
  },
  {
   "cell_type": "markdown",
   "metadata": {},
   "source": [
    "### Conversational Prompting\n",
    "\n",
    "Create a dialogue-style prompt where the model continues an ongoing conversation with the customer.\n",
    "Observe how well the model maintains context and coherence in multi-turn conversations."
   ]
  },
  {
   "cell_type": "code",
   "execution_count": null,
   "metadata": {},
   "outputs": [],
   "source": [
    "Conversational Prompting\n",
    "Conversational prompting involves creating a dialogue-style prompt where the model continues an ongoing conversation with the customer. This approach can help the model maintain context and coherence in multi-turn conversations, leading to more natural and relevant responses.\n",
    "Explanation:\n",
    "In conversational prompting, the prompt is structured as a back-and-forth dialogue between the customer and the customer service representative. The model is expected to generate responses that continue the conversation in a coherent and contextually appropriate manner, taking into account the previous exchanges.\n",
    "Example Prompt:\n",
    "\"Customer: Hi there, I have a question about the new Occupational Health and Safety Regulations. I'm a bit confused about how they differ from the previous regulations and what I need to do to ensure my business is compliant.\n",
    "Customer Service Representative: Hello, thank you for your inquiry. The new OHS Regulations introduce several changes compared to the previous General Safety Regulations. To better assist you, could you provide some details about the nature of your business and any specific areas of concern?\n",
    "Customer: Sure, I own a construction company with around 25 employees. We often work on job sites with various hazards, such as scaffolding, excavation, and confined spaces. I'm particularly interested in understanding the changes related to these areas, as well as any new requirements for safety committees or first aid provisions.\n",
    "Customer Service Representative: Based on the information in the attached FAQ document, here are some key changes in the OHS Regulations that may be relevant to your construction business:\n",
    "[Provide a detailed response addressing the customer's specific concerns, referring to relevant sections of the FAQ document, and offering guidance on ensuring compliance.]\n",
    "Customer: Okay, that's helpful information. One other question I have is about the Codes of Practice. If we follow those, does that mean we're automatically compliant with the new regulations?\n",
    "Customer Service Representative: [Provide a response addressing the customer's question about Codes of Practice, referring to the relevant information from the FAQ document.]\n",
    "Customer: Got it, that makes sense. Thank you for taking the time to explain these changes and how they apply to my business. I appreciate your help in ensuring we remain compliant and maintain a safe work environment for our employees.\n",
    "Customer Service Representative: You're very welcome. I'm glad I could provide clarification on the new OHS Regulations and how they impact your construction operations. Please don't hesitate to reach out if you have any further questions or need additional assistance. We're here to support you throughout this transition.\n",
    "Evaluation:\n",
    "The conversational prompting approach allows the model to engage in a more natural and contextual dialogue with"
   ]
  },
  {
   "cell_type": "markdown",
   "metadata": {},
   "source": [
    "### Contrastive Prompting\n",
    "\n",
    "Show the model examples of both good and bad responses.\n",
    "Use these contrasting examples to guide the model towards generating better responses.\n",
    "Compare the results with other techniques."
   ]
  },
  {
   "cell_type": "code",
   "execution_count": null,
   "metadata": {},
   "outputs": [],
   "source": [
    "Contrastive Prompting\n",
    "Explanation:\n",
    "Contrastive prompting involves showing the language model examples of both good and bad responses to a particular question or scenario. By contrasting these examples, the model can better understand the desired characteristics of a good response and learn to generate more appropriate and high-quality outputs.\n",
    "Example Prompt:\n",
    "\"Based on the information in the attached FAQ document, evaluate the following responses to the question: \"How different are the OHS Regulations from the General Safety Regulations?\"\n",
    "Good Response:\n",
    "The OHS Regulations introduce several changes compared to the previous General Safety Regulations. The new document is easier to navigate with an indexed search feature and a comprehensive Table of Contents. Key changes include updated requirements for hazard assessment, supervisor education, robotics, radiation, explosives, forestry and mill operations, as well as additional protection for specific worker groups like electrical workers, healthcare workers, and firefighters. Other areas with changes cover OHS committees, first aid, personal protective equipment, noise control, machine safety, scaffolds, hoists and cranes, rigging, entrances and exits, excavation, confined spaces, compressed air, diving, chemical and biological exposure, fire and explosion hazards, and demolition work.\n",
    "Bad Response:\n",
    "The OHS Regulations are completely different from the old regulations. You'll need to start from scratch to comply.\n",
    "Using the good response as a guide, provide a high-quality answer to the following question:\n",
    "\"What is the easiest way to find out how to be compliant with the OHS Regulations?\"\n",
    "Response:\"\n",
    "Model Response:\n",
    "The easiest way to find out how to be compliant with the OHS Regulations is to refer to the Table of Contents. The Table of Contents clearly outlines the various sections and information, allowing you to easily locate the relevant parts that apply to your business operations. It serves as a comprehensive guide to navigate the new regulations and identify the changes or requirements you need to address.\n",
    "Additionally, the FAQ document recommends downloading the Table of Contents from OHSregs.ca or contacting the WSCC by phone to speak with a Safety Officer if you have any doubts or need further assistance in understanding and implementing the necessary steps for compliance.\n",
    "Evaluation:\n",
    "The contrastive prompting approach effectively guides the model towards generating a high-quality response by providing examples of both good and bad responses. By contrasting these examples, the model can better understand the desired characteristics of a good response, such as being informative, specific, and referencing relevant information from the FAQ document. The model's response accurately summarizes the key information from the FAQ on how to find out about compliance requirements."
   ]
  },
  {
   "cell_type": "markdown",
   "metadata": {},
   "source": [
    "### Specificity Prompting\n",
    "\n",
    "Ask the model to respond with a specific style, tone, or level of detail, such as formal, friendly, or concise.\n",
    "Assess how well the model adapts its responses to the specified requirements."
   ]
  },
  {
   "cell_type": "code",
   "execution_count": null,
   "metadata": {},
   "outputs": [],
   "source": [
    "Specificity Prompting\n",
    "Explanation:\n",
    "Specificity prompting involves asking the language model to respond with a specific style, tone, or level of detail. This approach can help assess how well the model adapts its responses to meet the specified requirements, such as being formal, friendly, or concise.\n",
    "Example Prompt:\n",
    "\"Based on the information in the attached FAQ document, provide a response to the following question in a friendly and conversational tone:\n",
    "Question: As a worker, do my responsibilities change under the OHS Regulations?\n",
    "Response:\"\n",
    "Model Response:\n",
    "Hey there! Don't worry, your responsibilities as a worker won't really change much under the new OHS Regulations. The main thing is that you've always had a responsibility to work safely, and that's still the case. These responsibilities used to be part of the Safety Acts, but now they'll be included in the Regulations as well.\n",
    "Basically, you'll need to continue using all the required safeguards, safety equipment, and personal protective equipment outlined in the Regulations. You'll also need to follow the safe work practices and procedures that are developed based on these new Regulations.\n",
    "So while the rules might be a bit different, the core idea is the same – stay safe, follow the guidelines, and use the proper equipment. As long as you keep doing that, you'll be good to go under the new Regulations!\n",
    "Evaluation:\n",
    "The specificity prompting approach successfully guides the model to generate a response with a friendly and conversational tone, as requested. The response uses informal language, contractions, and a casual style to convey the information in a more approachable manner. The model effectively adapts its response style while still accurately summarizing the relevant information from the FAQ document."
   ]
  },
  {
   "cell_type": "markdown",
   "metadata": {},
   "source": [
    "### Iterative Refinement Prompting\n",
    "\n",
    "Ask the model to refine or improve upon its previous response.\n",
    "Experiment with multiple iterations to see if responses improve over time."
   ]
  },
  {
   "cell_type": "markdown",
   "metadata": {},
   "source": []
  },
  {
   "cell_type": "code",
   "execution_count": null,
   "metadata": {},
   "outputs": [],
   "source": [
    "Iterative Refinement Prompting\n",
    "Explanation:\n",
    "Iterative refinement prompting involves asking the language model to refine or improve upon its previous response. This approach allows for multiple iterations, where the model can incorporate feedback or additional context to enhance its responses over time.\n",
    "Example Prompt:\n",
    "\"Based on the information in the attached FAQ document, provide a response to the following question:\n",
    "Question: Is there a grace period? How much time do I have to become compliant with the OHS Regulations?\n",
    "Initial Response:\n",
    "There is no grace period once the Regulations become law. You need to be compliant as soon as they are implemented.\n",
    "Feedback: The response is accurate but lacks some important details from the FAQ document. Please refine your response to provide more comprehensive information.\n",
    "Refined Response:\n",
    "[Provide a more detailed and comprehensive response, incorporating the feedback and referring to relevant information from the FAQ document.]\"\n",
    "Model Response:\n",
    "Refined Response: There is no grace period once the OHS Regulations become law. You need to anticipate and prepare now, so when the Regulations come into effect, you will be compliant from the start. The FAQ document emphasizes the importance of being ready to comply as soon as the Regulations are implemented.\n",
    "To ensure compliance, you should review the relevant sections of the Regulations and make any necessary changes to your safety program, training procedures, equipment, and workplace practices. This may include costs for training and education, potential equipment updates like fall protection, allocating time for safety committees, supervisor training, worker training, and developing printed safety procedures.\n",
    "The key is to take proactive steps now to understand the changes and requirements outlined in the Regulations, so you can make the necessary adjustments and be fully compliant when they become law, without any grace period.\n",
    "Evaluation:\n",
    "The iterative refinement prompting approach allows the model to improve upon its initial response by incorporating feedback and additional context from the FAQ document. The refined response provides more comprehensive information, including details about the importance of being prepared, potential costs and steps for compliance, and the need to review and understand the changes in the Regulations. This iterative process helps the model generate a more complete and informative response."
   ]
  }
 ],
 "metadata": {
  "kernelspec": {
   "display_name": "Python 3 (ipykernel)",
   "language": "python",
   "name": "python3"
  },
  "language_info": {
   "codemirror_mode": {
    "name": "ipython",
    "version": 3
   },
   "file_extension": ".py",
   "mimetype": "text/x-python",
   "name": "python",
   "nbconvert_exporter": "python",
   "pygments_lexer": "ipython3",
   "version": "3.11.8"
  }
 },
 "nbformat": 4,
 "nbformat_minor": 2
}
